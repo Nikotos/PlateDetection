{
 "cells": [
  {
   "cell_type": "code",
   "execution_count": 5,
   "metadata": {},
   "outputs": [],
   "source": [
    "import cv2\n",
    "import os as os\n",
    "import pickle\n",
    "import torch\n",
    "import matplotlib.pyplot as plt\n",
    "from PIL import Image\n",
    "import numpy as np\n",
    "import torch.nn as nn\n",
    "import random\n",
    "\n",
    "\n",
    "import sys\n",
    "import onnx\n",
    "import onnx_coreml\n",
    "\n",
    "import torch\n",
    "import torch.onnx\n"
   ]
  },
  {
   "cell_type": "code",
   "execution_count": 6,
   "metadata": {},
   "outputs": [],
   "source": [
    "from DopeTech import *\n",
    "from Dataset import *\n",
    "from model import *"
   ]
  },
  {
   "cell_type": "code",
   "execution_count": 16,
   "metadata": {},
   "outputs": [],
   "source": [
    "model = TroubleShooter()\n",
    "model.load_state_dict(torch.load(\"modelNext\", map_location='cpu'))\n",
    "dummy_input = torch.randn(1, 1, 42, 70)\n",
    "torch.onnx.export(model, dummy_input, \"modelNext.onnx\")"
   ]
  },
  {
   "cell_type": "code",
   "execution_count": 17,
   "metadata": {},
   "outputs": [
    {
     "name": "stdout",
     "output_type": "stream",
     "text": [
      "1/24: Converting Node Type Conv\n",
      "2/24: Converting Node Type BatchNormalization\n",
      "3/24: Converting Node Type LeakyRelu\n",
      "4/24: Converting Node Type Conv\n",
      "5/24: Converting Node Type BatchNormalization\n",
      "6/24: Converting Node Type LeakyRelu\n",
      "7/24: Converting Node Type MaxPool\n",
      "8/24: Converting Node Type Conv\n",
      "9/24: Converting Node Type BatchNormalization\n",
      "10/24: Converting Node Type LeakyRelu\n",
      "11/24: Converting Node Type Conv\n",
      "12/24: Converting Node Type BatchNormalization\n",
      "13/24: Converting Node Type LeakyRelu\n",
      "14/24: Converting Node Type Pad\n",
      "15/24: Converting Node Type MaxPool\n",
      "16/24: Converting Node Type Conv\n",
      "17/24: Converting Node Type BatchNormalization\n",
      "18/24: Converting Node Type LeakyRelu\n",
      "19/24: Converting Node Type Conv\n",
      "20/24: Converting Node Type BatchNormalization\n",
      "21/24: Converting Node Type LeakyRelu\n",
      "22/24: Converting Node Type Conv\n",
      "23/24: Converting Node Type BatchNormalization\n",
      "24/24: Converting Node Type LeakyRelu\n",
      "Translation to CoreML spec completed. Now compiling the CoreML model.\n",
      "Model Compilation done.\n"
     ]
    }
   ],
   "source": [
    "model_file = open(\"modelNext.onnx\", 'rb')\n",
    "model_proto = onnx.onnx_pb.ModelProto()\n",
    "model_proto.ParseFromString(model_file.read())\n",
    "coreml_model = onnx_coreml.convert(model_proto, image_input_names='data', image_output_names=['outputImage'])\n",
    "coreml_model.save(\"PhoneModelNew\")"
   ]
  },
  {
   "cell_type": "code",
   "execution_count": null,
   "metadata": {},
   "outputs": [],
   "source": []
  }
 ],
 "metadata": {
  "kernelspec": {
   "display_name": "Python 3",
   "language": "python",
   "name": "python3"
  },
  "language_info": {
   "codemirror_mode": {
    "name": "ipython",
    "version": 3
   },
   "file_extension": ".py",
   "mimetype": "text/x-python",
   "name": "python",
   "nbconvert_exporter": "python",
   "pygments_lexer": "ipython3",
   "version": "3.6.5"
  }
 },
 "nbformat": 4,
 "nbformat_minor": 2
}
